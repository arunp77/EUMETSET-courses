{
 "cells": [
  {
   "cell_type": "markdown",
   "metadata": {},
   "source": [
    "<img src='https://gitlab.eumetsat.int/eumetlab/oceans/ocean-training/tools/frameworks/-/raw/main/img/Standard_banner.png' align='right' width='100%'/>"
   ]
  },
  {
   "cell_type": "markdown",
   "metadata": {},
   "source": [
    "<a href=\"../Index.ipynb\" target=\"_blank\"><< Index</a>\n",
    "<br>\n",
    "<a href=\"./2_3b_OLCI_SNAP_batch_processing_C2RCC.ipynb\" target=\"_blank\"><< OLCI SNAP processing: IdePiX and C2RCC</a>"
   ]
  },
  {
   "cell_type": "markdown",
   "metadata": {},
   "source": [
    "<font color=\"#138D75\">**Copernicus Marine Training Service**</font> <br>\n",
    "**Copyright:** 2023 EUMETSAT <br>\n",
    "**License:** MIT <br>\n",
    "**Authors:** Ben Loveday (EUMETSAT/Innoflair UG), Hayley Evers-King (EUMETSAT), Juan Ignacio-Gossn (EUMETSAT)"
   ]
  },
  {
   "cell_type": "markdown",
   "metadata": {},
   "source": [
    "<html>\n",
    "  <div style=\"width:100%\">\n",
    "    <div style=\"float:left\"><a href=\"https://mybinder.org/v2/git/https%3A%2F%2Fgitlab.eumetsat.int%2Feumetlab%2Foceans%2Focean-training%2Fsensors%2Flearn-olci/HEAD?urlpath=%2Ftree%2F2_OLCI_advanced%2F2_4_OLCI_matchup_validation_ThoMaS.ipynb\"><img src=\"https://mybinder.org/badge_logo.svg\" alt=\"Open in Binder\"></a></div>\n",
    "    <div style=\"float:left\"><p>&emsp;</p></div>\n",
    "  </div>\n",
    "</html>"
   ]
  },
  {
   "cell_type": "markdown",
   "metadata": {},
   "source": [
    "<div class=\"alert alert-block alert-success\">\n",
    "<h3>Learn OLCI: Advanced</h3></div>"
   ]
  },
  {
   "cell_type": "markdown",
   "metadata": {},
   "source": [
    "<div class=\"alert alert-block alert-warning\">\n",
    "    \n",
    "<b>PREREQUISITES </b>\n",
    "    \n",
    "This notebook has the following prerequisites:\n",
    "- **<a href=\"https://eoportal.eumetsat.int/\" target=\"_blank\">A EUMETSAT Earth Observation Portal account</a>** to enable you to download products from the EUMETSAT Data Store.\n",
    "\n",
    "There are no prerequisite notebooks for this module.\n",
    "</div>\n",
    "<hr>"
   ]
  },
  {
   "cell_type": "markdown",
   "metadata": {},
   "source": [
    "# 2.4 OLCI validation with the ThoMaS match-up toolkit\n",
    "\n",
    "### Data used\n",
    "\n",
    "| Product Description | Data Store collection ID| Product Navigator |\n",
    "|:--------------------:|:-----------------------:|:-------------:|\n",
    "| Sentinel-3 OLCI level-2 full resolution | EO:EUM:DAT:0407 | <a href=\"https://navigator.eumetsat.int/product/EO:EUM:DAT:SENTINEL-3:OL_2_WFR___NTC?query=OLCI&filter=satellite__Sentinel-3&filter=instrument__OLCI&filter=processingLevel__Level%202%20Data&s=advanced\" target=\"_blank\">link</a> |\n",
    "\n",
    "### Learning outcomes\n",
    "\n",
    "At the end of this notebook you will know;\n",
    "* how to use the ThoMaS toolkit to perform OLCI match-up validation extractions and analyses\n",
    "\n",
    "### Outline\n",
    "\n",
    "Validation studies are essential to ensuring satellite sensor performance and a necessary part of algorithm development. For ocean colour studies, match-up analyses are a key part of validation. The ThoMaS (Tool to generate Matchups of OC products with Sentinel-3/OLCI) package provides a comprehensive set of tools to help with the validation of OLCI products, supporting many common workfows including;\n",
    "* satellite data acquisition\n",
    "* mini file extraction\n",
    "* *in situ* data management\n",
    "* BRDF correction\n",
    "\n",
    "ThoMaS is written in Python and is made available through a **<a href=\"https://gitlab.eumetsat.int/eumetlab/oceans/ocean-science-studies/ThoMaS\" target=\"_blank\">EUMETSAT Gitlab repository</a>**. The package can be used from the command line, or imported as a Python library, as done here. This notebook contains 3 examples of how to use ThoMaS in various ways, but the capability shown is not exhaustive. Many more command-line examples are included in the repository, and we encourage users to familiarise themselves with both the **<a href=\"https://gitlab.eumetsat.int/eumetlab/oceans/ocean-science-studies/ThoMaS/-/blob/main/README.md\" target=\"_blank\">project README</a>** and **<a href=\"https://gitlab.eumetsat.int/eumetlab/oceans/ocean-science-studies/ThoMaS/-/blob/main/README_examples.md\" target=\"_blank\"> example README</a>** for more information.\n",
    "\n",
    "The examples given here should give you some insight into what ThoMaS can do, but we encourage you to build on these to facilitate your own validation workflows.\n",
    "\n",
    "<div class=\"alert alert-info\" role=\"alert\">\n",
    "\n",
    "## <a id='TOC-TOP'></a>Contents\n",
    "\n",
    "</div>\n",
    "\n",
    "0. [Defining functions](#section0)\n",
    "1. [Getting the ThoMaS toolkit](#section1)\n",
    "1. [Configuring ThoMaS](#section2)\n",
    "1. [Example 1: Single location extraction at WCO L4](#section3)\n",
    "1. [Example 2: Full match-up exercise at the Venice AERONET-OC station](#section4)\n",
    "1. [Example 3: Full match-up exercise with in situ hyperspectral R$_{rs}$](#section5)\n",
    "2. [What next?](#section6)\n",
    "\n",
    "<hr>"
   ]
  },
  {
   "cell_type": "markdown",
   "metadata": {},
   "source": [
    "We begin by importing all of the libraries that we need to run this notebook. If you have built your python environment (`cmts_learn_olci`) using the file provided in this repository, then you should have everything you need. For more information on building environment, please see the repository **<a href=\"../README.md\" target=\"_blank\">README</a>**."
   ]
  },
  {
   "cell_type": "code",
   "execution_count": 4,
   "metadata": {},
   "outputs": [],
   "source": [
    "import os\n",
    "import sys\n",
    "import pandas as pd\n",
    "import shutil\n",
    "import numpy as np"
   ]
  },
  {
   "cell_type": "markdown",
   "metadata": {},
   "source": [
    "<div class=\"alert alert-warning\" role=\"alert\">\n",
    "\n",
    "## <a id='section0'></a>Defining functions\n",
    "[Back to top](#TOC-TOP)\n",
    "\n",
    "</div>"
   ]
  },
  {
   "cell_type": "markdown",
   "metadata": {},
   "source": [
    "Before we go any further we are going to define a quick function that helps us to write our configuration options to a file.\n",
    "\n",
    "*Note: We don't need to write our configurations in python, we could always just write the configuration file directly and point ThoMaS to it*"
   ]
  },
  {
   "cell_type": "code",
   "execution_count": 6,
   "metadata": {},
   "outputs": [],
   "source": [
    "# Write config_params sections into config_file.ini\n",
    "def write_config_file(path_to_config_file,config_params):\n",
    "    with open(path_to_config_file, 'w') as text_file:\n",
    "        for section,section_params in config_params.items():\n",
    "            text_file.write('\\n[%s]\\n' % (section))\n",
    "            for param, value in section_params.items():\n",
    "                text_file.write('%s: %s\\n' % (param, value))"
   ]
  },
  {
   "cell_type": "markdown",
   "metadata": {},
   "source": [
    "<div class=\"alert alert-info\" role=\"alert\">\n",
    "\n",
    "## <a id='section1'></a>Getting the ThoMaS toolkit\n",
    "[Back to top](#TOC-TOP)\n",
    "\n",
    "</div>"
   ]
  },
  {
   "cell_type": "markdown",
   "metadata": {},
   "source": [
    "The first thing we need to do is retrieve the tool kit itself. We can do this using the external `! git clone` command. This will create a directory called **ThoMaS** in this path and make the code available for import."
   ]
  },
  {
   "cell_type": "code",
   "execution_count": 7,
   "metadata": {},
   "outputs": [
    {
     "name": "stdout",
     "output_type": "stream",
     "text": [
      "ThoMaS is already installed.\n"
     ]
    }
   ],
   "source": [
    "if os.path.exists(os.path.join(\"ThoMaS\", \"main.py\")):\n",
    "    print(\"ThoMaS is already installed.\")\n",
    "else:\n",
    "    ! git clone https://gitlab.eumetsat.int/eumetlab/oceans/ocean-science-studies/ThoMaS.git"
   ]
  },
  {
   "cell_type": "markdown",
   "metadata": {},
   "source": [
    "<div class=\"alert alert-info\" role=\"alert\">\n",
    "\n",
    "## <a id='section2'></a>Configuring and loading ThoMaS\n",
    "[Back to top](#TOC-TOP)\n",
    "\n",
    "</div>"
   ]
  },
  {
   "cell_type": "markdown",
   "metadata": {},
   "source": [
    "Before you use ThoMas, you must ensure that you have have completed the following two steps:\n",
    "1. Ensure that you have all the Python dependencies you need to run ThoMaS. If you have installed and activated the **cmts_learn_olci** environment then you are all set.\n",
    "1. Ensure that ThoMaS can access the EUMETSAT Data Store, which you can do by completing the \"**EUMDAC**\" section of the <a href=\"../working-with-python/API_authentication.ipynb\" target=\"_blank\"> set credentials notebook</a>.\n",
    "\n",
    "ThoMaS can be used from the <a href=\"https://gitlab.eumetsat.int/eumetlab/oceans/ocean-science-studies/ThoMaS/-/blob/main/README_examples.md\" target=\"_blank\">command line</a>, but here we will use it as a Python library. Lets import ThoMaS into our notebook."
   ]
  },
  {
   "cell_type": "code",
   "execution_count": 8,
   "metadata": {},
   "outputs": [],
   "source": [
    "sys.path.append(\"ThoMaS\")\n",
    "from main import ThoMaS_main as ThoMaS"
   ]
  },
  {
   "cell_type": "markdown",
   "metadata": {},
   "source": [
    "Now we should have ThoMaS imported and configured for use, so we can proceed with our examples."
   ]
  },
  {
   "cell_type": "markdown",
   "metadata": {},
   "source": [
    "<div class=\"alert alert-info\" role=\"alert\">\n",
    "\n",
    "## <a id='section3'></a>Example 1: Single location extraction at WCO L4\n",
    "[Back to top](#TOC-TOP)\n",
    "\n",
    "</div>\n",
    "\n",
    "<div class=\"alert alert-success\" role=\"alert\">\n",
    "\n",
    "Run ThoMaS for:\n",
    "\n",
    "1. Single location\n",
    "1. Single time window\n",
    "1. Only satellite download, minifiles creation and extractions (EDB)\n",
    "\n",
    "</div>"
   ]
  },
  {
   "cell_type": "markdown",
   "metadata": {},
   "source": [
    "#### Description\n",
    "<hr>\n",
    "In this case we are going to look at extracting data over a single time window over a static mooring. We are only going to acquire the Sentinel-3 OLCI data and process it to minifiles and then perform extraction using the EUMETSAT standard protocol. We are not going to compare the results with *in situ* data. Below are our requirements for this workflow:\n",
    "\n",
    "1. I want to download Sentinel-3 OLCI data overpassing the point location of the <a href=\"https://www.westernchannelobservatory.org.uk/buoys.php\" target=\"_blank\">**Western Channel Observatory L4 station**</a> (50.15 N, -4.13 W), considering the first 10 days of July 2023.\n",
    "1. I want data from Sentinel-3A only\n",
    "1. I only want full resolution level-2 data from the most recent collection OL__L2M.003 (Colection 3)\n",
    "1. I just want to obtain the S3 files (SatData), minifiles and extractions, I have my own scripts to compute the statistics of the comparison with insitu.\n",
    "1. In particular, I want to test EUMETSAT's standard extraction protocol, and I want to test window size 3x3.\n",
    "1. I want everything related to the run to be stored at in the \"WCO_L4\" directory.\n",
    "\n",
    "<hr>"
   ]
  },
  {
   "cell_type": "markdown",
   "metadata": {},
   "source": [
    "Lets start by defining an output path for our analysis. Everything we do will be stored in this directory."
   ]
  },
  {
   "cell_type": "code",
   "execution_count": 9,
   "metadata": {},
   "outputs": [],
   "source": [
    "output_path = os.path.join(os.getcwd(), \"WCO_L4\")\n",
    "if not os.path.exists(output_path):\n",
    "    os.mkdir(output_path)"
   ]
  },
  {
   "cell_type": "markdown",
   "metadata": {},
   "source": [
    "Now we are going to define a configuration file that sets the parameters for our analysis. We will create this as a dictionary."
   ]
  },
  {
   "cell_type": "code",
   "execution_count": 10,
   "metadata": {},
   "outputs": [],
   "source": [
    "# Build your config_file.ini\n",
    "path_to_config_file = os.path.join(output_path, 'config_file.ini')\n",
    "config_params = {}"
   ]
  },
  {
   "cell_type": "markdown",
   "metadata": {},
   "source": [
    "The first section of our configuration are our global settings. A key to this is the definition of our \"global workflow\". This defines the processing steps that we want to perform on our data. In this case, we specify that we want to download satellite data (SatData), we want to generate minifiles (minifiles) and we want to create our extraction data base (EDB). Each of these steps requires another configuration file section, which we will come to later."
   ]
  },
  {
   "cell_type": "code",
   "execution_count": null,
   "metadata": {},
   "outputs": [],
   "source": [
    "# global\n",
    "config_params['global'] = {}\n",
    "config_params['global']['path_output'] = output_path\n",
    "config_params['global']['SetID'] = 'Western_channel_observatory_L4'\n",
    "config_params['global']['workflow'] = 'SatData, minifiles, EDB'"
   ]
  },
  {
   "cell_type": "markdown",
   "metadata": {},
   "source": [
    "Now we will define the parameters for each of our workflow sections, stating with our satellite data. Here we will entire all the relevant parameters that will determine the data we will use."
   ]
  },
  {
   "cell_type": "code",
   "execution_count": null,
   "metadata": {},
   "outputs": [],
   "source": [
    "# satellite\n",
    "config_params['satellite'] = {}\n",
    "config_params['satellite']['satellite_path-to-SatData'] = os.path.join(output_path, 'SatData')\n",
    "config_params['satellite']['satellite_source'] = 'EUMETSATdataStore'\n",
    "config_params['satellite']['satellite_collections'] = 'OL__L2M.003'\n",
    "config_params['satellite']['satellite_platforms'] = 'S3A'\n",
    "config_params['satellite']['satellite_resolutions'] = 'FR'"
   ]
  },
  {
   "cell_type": "markdown",
   "metadata": {},
   "source": [
    "Next, lets define our minifile extraction window."
   ]
  },
  {
   "cell_type": "code",
   "execution_count": null,
   "metadata": {},
   "outputs": [],
   "source": [
    "# minifiles\n",
    "config_params['minifiles'] = {}\n",
    "config_params['minifiles']['minifiles_winSize'] = 3"
   ]
  },
  {
   "cell_type": "markdown",
   "metadata": {},
   "source": [
    "Lastly, we will define the specifics of our extraction protocol for selecting data."
   ]
  },
  {
   "cell_type": "code",
   "execution_count": null,
   "metadata": {},
   "outputs": [],
   "source": [
    "# EDB\n",
    "config_params['EDB'] = {}\n",
    "config_params['EDB']['EDB_protocols_L2'] = 'EUMETSAT_standard_L2'\n",
    "config_params['EDB']['EDB_winSizes'] = 3"
   ]
  },
  {
   "cell_type": "markdown",
   "metadata": {},
   "source": [
    "Now we have everything defined, we will write our parameters to our config file."
   ]
  },
  {
   "cell_type": "code",
   "execution_count": null,
   "metadata": {},
   "outputs": [],
   "source": [
    "write_config_file(path_to_config_file, config_params)"
   ]
  },
  {
   "cell_type": "markdown",
   "metadata": {},
   "source": [
    "The last thing we need to do is define the specifics of our extraction site; e.g. location and time window. We do this in a second file, as below."
   ]
  },
  {
   "cell_type": "code",
   "execution_count": null,
   "metadata": {},
   "outputs": [],
   "source": [
    "# Define the path\n",
    "path_to_latLonTimeRanges = os.path.join(output_path, 'latLonTimeRanges.csv')\n",
    "\n",
    "# Define the necessary inputs\n",
    "latLonTime = pd.DataFrame(columns = ['StationID', 'Lat', 'Lon', 'time_start', 'time_stop'])\n",
    "latLonTime.loc[0, 'StationID'] = 'Western_channel_observatory_L4'\n",
    "latLonTime.loc[0, 'Lat'] = 50.15\n",
    "latLonTime.loc[0, 'Lon'] = -4.13\n",
    "latLonTime.loc[0, 'time_start'] = '2023-05-26T00:00:00'\n",
    "latLonTime.loc[0, 'time_stop'] = '2023-06-06T00:00:00'\n",
    "\n",
    "# Store as csv file\n",
    "latLonTime.to_csv(path_to_latLonTimeRanges, index=False)"
   ]
  },
  {
   "cell_type": "code",
   "execution_count": null,
   "metadata": {},
   "outputs": [],
   "source": [
    "import cdsapi"
   ]
  },
  {
   "cell_type": "markdown",
   "metadata": {},
   "source": [
    "Now everything is defined we can run ThoMaS. The only thing we need to do is pass the tool kit the path to our configuration file."
   ]
  },
  {
   "cell_type": "code",
   "execution_count": null,
   "metadata": {},
   "outputs": [],
   "source": [
    "# Run ThoMaS and check all the outputs in the output directory\n",
    "ThoMaS(path_to_config_file)"
   ]
  },
  {
   "cell_type": "markdown",
   "metadata": {},
   "source": [
    "If all went well, in our experiment directory you should now have several folders that contain the outputs from the ThoMaS analysis.\n",
    "* SatData contains the full downloaded products\n",
    "* SatDataLists contains information on the inventory of downloaded data\n",
    "* minifiles contains the extracted minifiles\n",
    "* minifilesLists contains information on the inventory of downloaded data\n",
    "* EDB, the most important folder, contains the results of the extractions we made from the minifiles."
   ]
  },
  {
   "cell_type": "markdown",
   "metadata": {},
   "source": [
    "<div class=\"alert alert-info\" role=\"alert\">\n",
    "\n",
    "## <a id='section4'></a>Example 2: Full match-up exercise at the Venice AERONET-OC station\n",
    "[Back to top](#TOC-TOP)\n",
    "\n",
    "</div>\n",
    "\n",
    "<div class=\"alert alert-success\" role=\"alert\">\n",
    "\n",
    "Run ThoMaS for:\n",
    "\n",
    "1. download AERONET-OC *in situ* data for the Venice station and convert to SeaBASS/OCDB format\n",
    "1. full matchup exercise: satellite extractions + minifiles + extraction statistics + matchup statistics\n",
    "1. apply a BRDF correction\n",
    "1. use EUMETSAT standard protocol for extractions and for insitu-extraction comparison.\n",
    "\n",
    "</div>"
   ]
  },
  {
   "cell_type": "markdown",
   "metadata": {},
   "source": [
    "#### Description\n",
    "<hr>\n",
    "\n",
    "In this case we are going to look at extracting data over a single **<a href=\"https://aeronet.gsfc.nasa.gov/new_web/photo_db_v3/Venise.html\" target=\"_blank\">AERONET-OC</a>** site, as stored in a remote database. The time windows will be determined by the measurements in the database itself, we will just set time bounds for the extraction. We are going to acquire the Sentinel-3 OLCI data and perform the full comparison against the AERONET data. Below are our requirements for this workflow:\n",
    "\n",
    "1. I want to test the performance of OLCI at the AERONET-OC station Venice, during February 2021.\n",
    "1. I wish to get matchups between this Venice subset and S3A/OLCI standard FR L2,\n",
    "    1. From the current collection OL__L2M.003\n",
    "    1. using the standard extraction protocol from EUMETSAT,\n",
    "    1. an extraction window of 5x5,\n",
    "    1. using an insitu-satellite time difference threshold of 1 hour (3600 seconds).\n",
    "1. I am not interested in getting ancillary data from ECMWF for to the insitu data.\n",
    "1. I want to apply the Morel et al. 2002 BRDF correction to both satellite and insitu.\n",
    "1. If I have several insitu measurements corresponding to one single SatData within the time window that you selected, but you wish to keep only the closest in time with ./Venice/SatData\n",
    "1. All the other outputs (IDB, minifiles, EDB, MDB, etc.) to be stored in the \"Venice\" directory.\n",
    "\n",
    "<hr>"
   ]
  },
  {
   "cell_type": "markdown",
   "metadata": {},
   "source": [
    "We are going to perform exactly the same steps as we did in example 1, beginning with defining our output path."
   ]
  },
  {
   "cell_type": "code",
   "execution_count": null,
   "metadata": {},
   "outputs": [],
   "source": [
    "# Define and create the path to your main output directory for this exercise.\n",
    "output_path = os.path.join(os.getcwd(), \"Venice\")\n",
    "if not os.path.exists(output_path):\n",
    "    os.mkdir(output_path)"
   ]
  },
  {
   "cell_type": "markdown",
   "metadata": {},
   "source": [
    "And as before we will define a configuration file. However, there are some differences to before. We need to define how we work with *in situ* data, specifically for AERONET-OC, and define how we handle the in situ data in our match up database (MDB).\n",
    "\n",
    "*Note: The AERONET-OC site is called Veni**s**e and not Veni**c**e!*"
   ]
  },
  {
   "cell_type": "code",
   "execution_count": null,
   "metadata": {},
   "outputs": [],
   "source": [
    "# Build your config_file.ini\n",
    "path_to_config_file = os.path.join(output_path, 'config_file.ini')\n",
    "config_params = {}\n",
    "\n",
    "# global\n",
    "config_params['global'] = {}\n",
    "config_params['global']['path_output'] = output_path\n",
    "config_params['global']['SetID'] = 'Venice'\n",
    "config_params['global']['workflow'] = 'insitu, SatData, minifiles, EDB, MDB'\n",
    "\n",
    "# AERONETOC\n",
    "config_params['AERONETOC'] = {}\n",
    "config_params['AERONETOC']['AERONETOC_pathRaw'] = os.path.join(output_path, 'Venice', 'AERONET_OC_raw')\n",
    "config_params['AERONETOC']['AERONETOC_dateStart'] = '2021-02-01T00:00:00'\n",
    "config_params['AERONETOC']['AERONETOC_dateEnd'] = '2021-03-01T00:00:00'\n",
    "config_params['AERONETOC']['AERONETOC_dataQuality'] = 2\n",
    "config_params['AERONETOC']['AERONETOC_station'] = 'Venise'\n",
    "\n",
    "# insitu\n",
    "config_params['insitu'] = {}\n",
    "config_params['insitu']['insitu_data2OCDBfile'] = 'AERONETOC'\n",
    "config_params['insitu']['insitu_input'] = os.path.join(output_path, 'Venice_OCDB.csv')\n",
    "config_params['insitu']['insitu_satelliteTimeToleranceSeconds'] = 3600\n",
    "config_params['insitu']['insitu_getAncillary'] = False \n",
    "config_params['insitu']['insitu_BRDF'] = 'M02'\n",
    "\n",
    "# satellite\n",
    "config_params['satellite'] = {}\n",
    "config_params['satellite']['satellite_path-to-SatData'] = os.path.join(output_path, 'SatData')\n",
    "config_params['satellite']['satellite_source'] = 'EUMETSATdataStore'\n",
    "config_params['satellite']['satellite_collections'] = 'OL__L2M.003'\n",
    "config_params['satellite']['satellite_platforms'] = 'S3A'\n",
    "config_params['satellite']['satellite_resolutions'] = 'FR'\n",
    "config_params['satellite']['satellite_BRDF'] = 'M02'\n",
    "\n",
    "# minifiles\n",
    "config_params['minifiles'] = {}\n",
    "config_params['minifiles']['minifiles_winSize'] = 5\n",
    "\n",
    "# EDB\n",
    "config_params['EDB'] = {}\n",
    "config_params['EDB']['EDB_protocols_L2'] = 'EUMETSAT_standard_L2'\n",
    "config_params['EDB']['EDB_winSizes'] = 5\n",
    "\n",
    "# MDB\n",
    "config_params['MDB'] = {}\n",
    "config_params['MDB']['MDB_time-interpolation'] = 'insitu2satellite_NN'\n",
    "config_params['MDB']['MDB_stats_plots'] = True\n",
    "config_params['MDB']['MDB_stats_protocol'] = 'EUMETSAT_standard_L2'\n",
    "\n",
    "# Write config_params sections into config_file.ini\n",
    "write_config_file(path_to_config_file, config_params)"
   ]
  },
  {
   "cell_type": "markdown",
   "metadata": {},
   "source": [
    "Lets run this configuration and then check our outputs."
   ]
  },
  {
   "cell_type": "code",
   "execution_count": null,
   "metadata": {},
   "outputs": [],
   "source": [
    "# Run ThoMaS and check all the outputs in the output directory\n",
    "ThoMaS(path_to_config_file)"
   ]
  },
  {
   "cell_type": "markdown",
   "metadata": {},
   "source": [
    "In this case, we have run a full analysis, so along side all of our data we have some summary plots."
   ]
  },
  {
   "cell_type": "markdown",
   "metadata": {},
   "source": [
    "<div class=\"alert alert-info\" role=\"alert\">\n",
    "\n",
    "## <a id='section5'></a>Example 3: Full match-up exercise with *in situ* hyperspectral R$_{rs}$\n",
    "[Back to top](#TOC-TOP)\n",
    "\n",
    "</div>\n",
    "\n",
    "<div class=\"alert alert-success\" role=\"alert\">\n",
    "\n",
    "Run ThoMaS for:\n",
    "\n",
    "1. full matchup exercise: satellite extractions + minifiles + extraction statistics + matchup statistics\n",
    "1. insitu data already available in SeaBASS/OCDB format\n",
    "1. apply a BRDF correction\n",
    "1. use EUMETSAT standard protocol for extractions and for insitu-extraction comparison.\n",
    "\n",
    "</div>"
   ]
  },
  {
   "cell_type": "markdown",
   "metadata": {},
   "source": [
    "#### Description\n",
    "\n",
    "<hr>\n",
    "\n",
    "In this final example we are going to perform a full analysis using a subset of data from the MOBY ocean colour database as our *in situ* data.\n",
    "\n",
    "1. You have a prepared a set of hyperspectral Rrs insitu measurements from MOBY in SeaBASS format not corrected for BRDF effects.\n",
    "1. You wish to get matchups between this MOBY subset and;\n",
    "    1. S3A/OLCI standard FR L2,\n",
    "    1. From the current collection OL__L2M.003\n",
    "    1. using the standard extraction protocol from EUMETSAT,\n",
    "    1. an extraction window of 5x5,\n",
    "    1. an insitu-satellite time difference threshold of 1 hour (3600 seconds).\n",
    "1. You are not interested in getting ancillary data from ECMWF for to the insitu data.\n",
    "1. You want to apply the <a href=\"https://opg.optica.org/ao/abstract.cfm?uri=AO-41-30-6289\" target=\"_blank\">Morel et al., 2002</a> BRDF correction to both satellite and insitu.\n",
    "1. You may have several insitu measurements corresponding to one single SatData within the time window that you selected, but you wish to keep only the closest in time with the satellite overpass.\n",
    "1. You wish: SatData to be stored at ./MOBY/SatData\n",
    "1. all the other outputs (IDB, minifiles, EDB, MDB, etc.) to be stored in the \"MOBY\" directory.\n",
    "\n",
    "<hr>"
   ]
  },
  {
   "cell_type": "markdown",
   "metadata": {},
   "source": [
    "We are going to perform similar steps to those in example 1, beginning with defining our output path."
   ]
  },
  {
   "cell_type": "code",
   "execution_count": null,
   "metadata": {},
   "outputs": [],
   "source": [
    "# Define and create your main output path for this example:\n",
    "output_path = os.path.join(os.getcwd(), \"MOBY\")\n",
    "if not os.path.exists(output_path):\n",
    "    os.mkdir(output_path)"
   ]
  },
  {
   "cell_type": "markdown",
   "metadata": {},
   "source": [
    "Lets now copy some SEABASS/OCDB format *in situ* data into this experiment path (this is included in command line example 6)."
   ]
  },
  {
   "cell_type": "code",
   "execution_count": null,
   "metadata": {},
   "outputs": [],
   "source": [
    "# Copy the MOBY sample data (/ThoMaS/examples/examples6/MOBY_OCDB.csv) to your target output directory\n",
    "path_insitu = os.path.join(output_path, 'MOBY_OCDB.csv')\n",
    "shutil.copy(os.path.join(os.getcwd(), 'ThoMaS', 'examples', 'example6', 'MOBY_OCDB.csv'), path_insitu)"
   ]
  },
  {
   "cell_type": "markdown",
   "metadata": {},
   "source": [
    "Lets take a quick look at a subset of the data...."
   ]
  },
  {
   "cell_type": "code",
   "execution_count": null,
   "metadata": {},
   "outputs": [],
   "source": [
    "with open(path_insitu) as file:\n",
    "    print('\\t'.join([\"Station\", \"\\t\\tDate\", \"\\tTime\", \"\\tStatus\"]))\n",
    "    for line in file:\n",
    "        if not any(ext in line[0] for ext in ['/', '!']):\n",
    "            print('\\t'.join(line.rstrip().split(',')[0:4]))"
   ]
  },
  {
   "cell_type": "markdown",
   "metadata": {},
   "source": [
    "And, as in example 2, we will vuild our configuration file..."
   ]
  },
  {
   "cell_type": "code",
   "execution_count": null,
   "metadata": {},
   "outputs": [],
   "source": [
    "# Build your config_file.ini\n",
    "path_to_config_file = os.path.join(output_path, 'config_file.ini')\n",
    "config_params = {}\n",
    "\n",
    "# global\n",
    "config_params['global'] = {}\n",
    "config_params['global']['path_output'] = output_path\n",
    "config_params['global']['SetID'] = 'MOBY'\n",
    "config_params['global']['workflow'] = 'insitu, SatData, minifiles, EDB, MDB'\n",
    "\n",
    "# insitu\n",
    "config_params['insitu'] = {}\n",
    "config_params['insitu']['insitu_input'] = os.path.join(output_path, 'MOBY_OCDB.csv')\n",
    "config_params['insitu']['insitu_satelliteTimeToleranceSeconds'] = 3600\n",
    "config_params['insitu']['insitu_getAncillary'] = False \n",
    "config_params['insitu']['insitu_BRDF'] = 'M02'\n",
    "\n",
    "# satellite\n",
    "config_params['satellite'] = {}\n",
    "config_params['satellite']['satellite_path-to-SatData'] = os.path.join(output_path, 'SatData')\n",
    "config_params['satellite']['satellite_source'] = 'EUMETSATdataStore'\n",
    "config_params['satellite']['satellite_collections'] = 'OL__L2M.003'\n",
    "config_params['satellite']['satellite_platforms'] = 'S3A'\n",
    "config_params['satellite']['satellite_resolutions'] = 'FR'\n",
    "\n",
    "# minifiles\n",
    "config_params['minifiles'] = {}\n",
    "config_params['minifiles']['minifiles_winSize'] = 5\n",
    "\n",
    "# EDB\n",
    "config_params['EDB'] = {}\n",
    "config_params['EDB']['EDB_protocols_L2'] = 'EUMETSAT_standard_L2'\n",
    "config_params['EDB']['EDB_winSizes'] = 5\n",
    "\n",
    "# MDB\n",
    "config_params['MDB'] = {}\n",
    "config_params['MDB']['MDB_time-interpolation'] = 'insitu2satellite_NN'\n",
    "config_params['MDB']['MDB_stats_plots'] = True\n",
    "config_params['MDB']['MDB_stats_protocol'] = 'EUMETSAT_standard_L2'\n",
    "\n",
    "# Write config_params sections into config_file.ini\n",
    "write_config_file(path_to_config_file, config_params)"
   ]
  },
  {
   "cell_type": "markdown",
   "metadata": {},
   "source": [
    "...and run!"
   ]
  },
  {
   "cell_type": "code",
   "execution_count": null,
   "metadata": {},
   "outputs": [],
   "source": [
    "# Run ThoMaS and check all the outputs in the output directory\n",
    "ThoMaS(path_to_config_file)"
   ]
  },
  {
   "cell_type": "markdown",
   "metadata": {},
   "source": [
    "<div class=\"alert alert-info\" role=\"alert\">\n",
    "\n",
    "## <a id='section6'></a>What next?\n",
    "[Back to top](#TOC-TOP)\n",
    "\n",
    "</div>"
   ]
  },
  {
   "cell_type": "markdown",
   "metadata": {},
   "source": [
    "You can find many more example of configuration files in the ./ThoMaS/examples directory. Building on these, and the examples shown above you should be able to build a validation workflow that works for your circumstances!"
   ]
  },
  {
   "cell_type": "markdown",
   "metadata": {},
   "source": [
    "<a href=\"../Index.ipynb\" target=\"_blank\"><< Index</a>\n",
    "<br>\n",
    "<a href=\"./2_3b_OLCI_SNAP_batch_processing_C2RCC.ipynb\" target=\"_blank\"><< OLCI SNAP processing: IdePiX and C2RCC</a>\n",
    "<hr>\n",
    "<a href=\"https://gitlab.eumetsat.int/eumetlab/ocean\" target=\"_blank\">View on GitLab</a> | <a href=\"https://training.eumetsat.int/\" target=\"_blank\">EUMETSAT Training</a> | <a href=mailto:ops@eumetsat.int target=\"_blank\">Contact helpdesk for support </a> | <a href=mailto:Copernicus.training@eumetsat.int target=\"_blank\">Contact our training team to collaborate on and reuse this material</a></span></p>"
   ]
  }
 ],
 "metadata": {
  "author": "Ben Loveday, Hayley Evers-King, Juan Ignacio-Gossn",
  "description": "This Jupyter Notebook shows how to perform OLCI match-up validation analysis using the ThoMaS toolkit.",
  "image": "../img/thumbs/2_4_OLCI_matchup_validation_thumb.png",
  "kernelspec": {
   "display_name": "Python 3 (ipykernel)",
   "language": "python",
   "name": "python3"
  },
  "language_info": {
   "codemirror_mode": {
    "name": "ipython",
    "version": 3
   },
   "file_extension": ".py",
   "mimetype": "text/x-python",
   "name": "python",
   "nbconvert_exporter": "python",
   "pygments_lexer": "ipython3",
   "version": "3.9.12"
  },
  "services": {
   "eumetsat": {
    "binder": {
     "link": "https://mybinder.org/v2/git/https%3A%2F%2Fgitlab.eumetsat.int%2Feumetlab%2Foceans%2Focean-training%2Fsensors%2Flearn-olci/HEAD?urlpath=%2Ftree%2F2_OLCI_advanced%2F2_4_OLCI_matchup_validation.ipynb",
     "service_contact": "ops@eumetsat.int",
     "service_provider": "EUMETSAT"
    },
    "git": {
     "link": "https://gitlab.eumetsat.int/eumetlab/oceans/ocean-training/sensors/learn-olci/-/blob/main/2_OLCI_advanced/2_4_OLCI_matchup_validation.ipynb",
     "service_contact": "ops@eumetsat.int",
     "service_provider": "EUMETSAT"
    }
   },
   "wekeo": {
    "git": {
     "link": "",
     "service_contact": "ops@eumetsat.int",
     "service_provider": "EUMETSAT"
    },
    "url": {
     "link": "",
     "service_contact": "ops@eumetsat.int",
     "service_provider": "EUMETSAT"
    }
   }
  },
  "tags": {
   "domain": "Marine",
   "platform": [
    "Sentinel-3"
   ],
   "sensor": "OLCI",
   "service": "EUMETSAT",
   "subtheme": [
    "Ocean biogeochemistry",
    "Water quality",
    "Ocean fluxes"
   ],
   "tags": [
    "Top-of-atmosphere radiance",
    "Water leaving reflectance",
    "Chlorophyll concentration",
    "Photosynthetically active radiation",
    "Diffuse attentuation coefficient",
    "Coloured dissolved organic matter absorption coefficient",
    "Total suspended matter concentration",
    "Ocean colour"
   ]
  },
  "title": "Validating OLCI products using the ThoMaS match-up toolkit"
 },
 "nbformat": 4,
 "nbformat_minor": 4
}
