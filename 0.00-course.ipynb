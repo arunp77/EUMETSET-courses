{
 "cells": [
  {
   "cell_type": "markdown",
   "metadata": {},
   "source": [
    "# European Organisation for the Exploitation of Meteorological (EUMETSET)\n",
    "\n",
    "<img src=\"https://upload.wikimedia.org/wikipedia/en/a/aa/EUMETSAT_logo.jpg\" alt=\"Your Image\" style=\"max-width: 300px;\"/>"
   ]
  },
  {
   "cell_type": "markdown",
   "metadata": {},
   "source": [
    "\n",
    "<img src=\"https://upload.wikimedia.org/wikipedia/commons/thumb/c/ca/EUMETSAT_member_states.svg/1920px-EUMETSAT_member_states.svg.png\" alt=\"Your Image\" style=\"max-width: 500px;\"/>"
   ]
  },
  {
   "cell_type": "markdown",
   "metadata": {},
   "source": [
    "## Satellite programmes\n",
    "\n",
    "There are two types of programme:\n",
    "\n",
    "- Geostationary satellites, providing a continuous view of the earth disc from a stationary position in space.\n",
    "\n",
    "- Polar-orbiting satellites, flying at a much lower altitude, sending back more precise details about atmospheric temperature and moisture profiles, although with less frequent global coverage.\n",
    "\n",
    "\n",
    "| Geostationary Missions |  Polar Missions |\n",
    "|------------------------|-----------------|\n",
    "| Meteosat (including Meteosat Third Generation) | Metop (Metop series of polar-orbiting satellites) |\n",
    "| MTG-I (Meteosat Third Generation Imaging) | EPS-SG (EUMETSAT Polar System-Second Generation) |\n",
    "| MTG-S (Meteosat Third Generation Sounder) | EPS-SG Second Generation |\n",
    "| |  Jason-3 (collaborative mission) |\n",
    "|| Copernicus Sentinel-3 (collaborative mission) |\n",
    "|| Jason-CS/Sentinel-6 (collaborative mission) |\n",
    "|| MTG-IRS (Meteosat Third Generation Infrared Sounder)|"
   ]
  },
  {
   "cell_type": "code",
   "execution_count": null,
   "metadata": {},
   "outputs": [],
   "source": []
  }
 ],
 "metadata": {
  "language_info": {
   "name": "python"
  },
  "orig_nbformat": 4
 },
 "nbformat": 4,
 "nbformat_minor": 2
}
